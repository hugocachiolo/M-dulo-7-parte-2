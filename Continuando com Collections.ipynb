

usuarios_data_science = [15, 23, 43, 56]
usuarios_machine_learning = [13, 23, 56, 42]
     

assistiram = usuarios_data_science.copy()
assistiram.extend(usuarios_machine_learning)
assistiram
     

[15, 23, 43, 56, 13, 23, 56, 42]


len(assistiram)
     

8


set(assistiram)
     

{13, 15, 23, 42, 43, 56}


set([1,2,3,1])
     

{1, 2, 3}


{4, 1,2,3,1}
     

{1, 2, 3, 4}


type({1,2})
     

set


usuarios_data_science = {15, 23, 43, 56}
usuarios_machine_learning = {13, 23, 56, 42}
     

usuarios_machine_learning
     

{13, 23, 42, 56}


usuarios_machine_learning[3]
     

---------------------------------------------------------------------------
TypeError                                 Traceback (most recent call last)
<ipython-input-18-ae55a602a7d7> in <module>()
----> 1 usuarios_machine_learning[3]

TypeError: 'set' object does not support indexing


for usuario in set(assistiram):
  print(usuario)
     

42
43
13
15
23
56


usuarios_data_science = {15, 23, 43, 56}
usuarios_machine_learning = {13, 23, 56, 42}
     

usuarios_data_science | usuarios_machine_learning
     

{13, 15, 23, 42, 43, 56}


usuarios_data_science & usuarios_machine_learning
     

{23, 56}


usuarios_data_science - usuarios_machine_learning
     

{15, 43}


fez_ds_mas_nao_fez_ml = usuarios_data_science - usuarios_machine_learning
15 in fez_ds_mas_nao_fez_ml
     

True


23 in fez_ds_mas_nao_fez_ml
     

False


usuarios_data_science ^ usuarios_machine_learning
     

{13, 15, 42, 43}


usuarios = {1,5,76,34,52,13,17}
len(usuarios)
     

7


usuarios.add(13)
len(usuarios)
     

7


usuarios.add(765)
len(usuarios)
     

8


usuarios
     

{1, 5, 13, 17, 34, 52, 76, 765}


usuarios = frozenset(usuarios)
usuarios
     

frozenset({1, 5, 13, 17, 34, 52, 76, 765})


type(usuarios)
     

frozenset


usuarios.add(134)
     

---------------------------------------------------------------------------
AttributeError                            Traceback (most recent call last)
<ipython-input-35-f85b988f2472> in <module>()
----> 1 usuarios.add(134)

AttributeError: 'frozenset' object has no attribute 'add'


meu_texto = "Bem vindo meu nome é Guilherme eu gosto muito de nomes e tenho o meu cachorro e gosto muito de cachorro"
meu_texto.split()
     

['Bem',
 'vindo',
 'meu',
 'nome',
 'é',
 'Guilherme',
 'eu',
 'gosto',
 'muito',
 'de',
 'nomes',
 'e',
 'tenho',
 'o',
 'meu',
 'cachorro',
 'e',
 'gosto',
 'muito',
 'de',
 'cachorro']


set(meu_texto.split())
     

{'Bem',
 'Guilherme',
 'cachorro',
 'de',
 'e',
 'eu',
 'gosto',
 'meu',
 'muito',
 'nome',
 'nomes',
 'o',
 'tenho',
 'vindo',
 'é'}

Dicionário (Mapa etc)

aparicoes = {
  "Guilherme" : 1,
  "cachorro" : 2,
  "nome" : 2,
  "vindo" : 1
}
     

type(aparicoes)
     

dict


aparicoes["Guilherme"]
     

1


aparicoes["cachorro"]
     

2


aparicoes["xpto"]
     

---------------------------------------------------------------------------
KeyError                                  Traceback (most recent call last)
<ipython-input-50-5844a27a46e4> in <module>()
----> 1 aparicoes["xpto"]

KeyError: 'xpto'


aparicoes.get("xpto", 0)
     

0


aparicoes.get("cachorro", 0)
     

2


aparicoes = dict(Guilherme = 2, cachorro = 1)
aparicoes
     

{'Guilherme': 2, 'cachorro': 1}


aparicoes = {
  "Guilherme" : 1,
  "cachorro" : 2,
  "nome" : 2,
  "vindo" : 1
}
     

aparicoes["Carlos"] = 1
     

aparicoes
     

{'Carlos': 1, 'Guilherme': 1, 'cachorro': 2, 'nome': 2, 'vindo': 1}


aparicoes["Carlos"] = 2
     

aparicoes
     

{'Carlos': 2, 'Guilherme': 1, 'cachorro': 2, 'nome': 2, 'vindo': 1}


del aparicoes["Carlos"]
     

aparicoes
     

{'Guilherme': 1, 'cachorro': 2, 'nome': 2, 'vindo': 1}


"cachorro" in aparicoes
     

True


"Carlos" in aparicoes
     

False


for elemento in aparicoes:
  print(elemento)
     

Guilherme
cachorro
nome
vindo


for elemento in aparicoes.keys():
  print(elemento)
     

Guilherme
cachorro
nome
vindo


for elemento in aparicoes.values():
  print(elemento)
     

1
2
2
1


1 in aparicoes.values()
     

True


for elemento in aparicoes.keys():
  valor = aparicoes[elemento]
  print(elemento, valor)
     

Guilherme 1
cachorro 2
nome 2
vindo 1


for elemento in aparicoes.items():
  print(elemento)
     

('Guilherme', 1)
('cachorro', 2)
('nome', 2)
('vindo', 1)


for chave, valor in aparicoes.items():
  print(chave, "=", valor)
     

Guilherme = 1
cachorro = 2
nome = 2
vindo = 1


["palavra {}".format(chave) for chave in aparicoes.keys()]
     

['palavra Guilherme', 'palavra cachorro', 'palavra nome', 'palavra vindo']


meu_texto = "Bem vindo meu nome é Guilherme eu gosto muito de nomes e tenho o meu cachorro e gosto muito de cachorro"
meu_texto = meu_texto.lower()

aparicoes = {}

for palavra in meu_texto.split():
  ate_agora = aparicoes.get(palavra, 0)
  aparicoes[palavra] = ate_agora + 1

aparicoes
     

{'bem': 1,
 'cachorro': 2,
 'de': 2,
 'e': 2,
 'eu': 1,
 'gosto': 2,
 'guilherme': 1,
 'meu': 2,
 'muito': 2,
 'nome': 1,
 'nomes': 1,
 'o': 1,
 'tenho': 1,
 'vindo': 1,
 'é': 1}


from collections import defaultdict

aparicoes = defaultdict(int)

for palavra in meu_texto.split():
  ate_agora = aparicoes[palavra]
  aparicoes[palavra] = ate_agora + 1

aparicoes
     

defaultdict(int,
            {'bem': 1,
             'cachorro': 2,
             'de': 2,
             'e': 2,
             'eu': 1,
             'gosto': 2,
             'guilherme': 1,
             'meu': 2,
             'muito': 2,
             'nome': 1,
             'nomes': 1,
             'o': 1,
             'tenho': 1,
             'vindo': 1,
             'é': 1})


int()
     

0


dicionario = defaultdict(int)
dicionario['guilherme']
     

0


dicionario['guilherme'] = 15
dicionario['guilherme']
     

15


aparicoes = defaultdict(int)

for palavra in meu_texto.split():
  aparicoes[palavra] += 1

aparicoes
     

defaultdict(int,
            {'bem': 1,
             'cachorro': 2,
             'de': 2,
             'e': 2,
             'eu': 1,
             'gosto': 2,
             'guilherme': 1,
             'meu': 2,
             'muito': 2,
             'nome': 1,
             'nomes': 1,
             'o': 1,
             'tenho': 1,
             'vindo': 1,
             'é': 1})


class Conta:
  def __init__(self):
    print("Criando uma conta")
     

contas = defaultdict(Conta)
contas[15]
     

Criando uma conta

<__main__.Conta at 0x7f6f781d4518>


contas[17]
     

Criando uma conta

<__main__.Conta at 0x7f6f781d43c8>


contas[15]
     

<__main__.Conta at 0x7f6f781d4518>


from collections import Counter

aparicoes = Counter()
for palavra in meu_texto.split():
  aparicoes[palavra] += 1

aparicoes
     

Counter({'bem': 1,
         'cachorro': 2,
         'de': 2,
         'e': 2,
         'eu': 1,
         'gosto': 2,
         'guilherme': 1,
         'meu': 2,
         'muito': 2,
         'nome': 1,
         'nomes': 1,
         'o': 1,
         'tenho': 1,
         'vindo': 1,
         'é': 1})


aparicoes = Counter(meu_texto.split())

aparicoes
     

Counter({'bem': 1,
         'cachorro': 2,
         'de': 2,
         'e': 2,
         'eu': 1,
         'gosto': 2,
         'guilherme': 1,
         'meu': 2,
         'muito': 2,
         'nome': 1,
         'nomes': 1,
         'o': 1,
         'tenho': 1,
         'vindo': 1,
         'é': 1})

Testando o uso de diversas coleções

texto1 = """
Para começar a fazer vendas online, uma empresa que fabrica adesivos criou uma página para pré cadastro de cartão de crédito que contém campos como nome, idade, endereço, CPF entre outros.

O problema é que alguns cadastros não possuem um formato de CPF válido, isso porque o campo não possui nenhuma validação. Ou seja, o campo está aceitando não só números como letras e outros tipos de caractere.

O que vamos fazer é encontrar uma maneira de ajudar o usuário de forma mais clara possível a preencher o cadastro e garantir a validação no front-end antes que os dados sejam enviados para o back-end.
"""
     

def analisa_frequencia_de_letras(texto):
  aparicoes = Counter(texto.lower())
  total_de_caracteres = sum(aparicoes.values())

  proporcoes = [(letra, frequencia / total_de_caracteres) for letra, frequencia in aparicoes.items()]
  proporcoes = Counter(dict(proporcoes))
  mais_comuns = proporcoes.most_common(10)
  for caractere, proporcao in mais_comuns:
    print("{} => {:.2f}%".format(caractere, proporcao * 100))
     

analisa_frequencia_de_letras(texto1)
     

  => 16.14%
a => 9.61%
o => 9.45%
e => 8.68%
r => 6.75%
s => 6.37%
n => 4.17%
m => 3.62%
c => 3.57%
u => 3.57%


analisa_frequencia_de_letras(texto2)
     

  => 16.28%
a => 9.85%
e => 9.40%
o => 8.54%
s => 6.73%
r => 5.76%
m => 4.45%
t => 4.01%
i => 3.99%
n => 3.91%

